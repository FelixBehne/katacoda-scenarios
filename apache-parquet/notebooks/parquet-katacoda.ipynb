{
 "cells": [
  {
   "cell_type": "code",
   "execution_count": 2,
   "metadata": {},
   "outputs": [],
   "source": [
    "import pyarrow\n",
    "import datetime\n",
    "from pyarrow import csv\n",
    "import pyarrow.parquet as pq\n",
    "import pandas as pd"
   ]
  },
  {
   "cell_type": "markdown",
   "metadata": {},
   "source": [
    "## Load data"
   ]
  },
  {
   "cell_type": "code",
   "execution_count": 16,
   "metadata": {},
   "outputs": [],
   "source": [
    "names = [\"Duration\", \"Start Date\", \"End Date\", \"Start station number\", \"Start station\", \"End station number\", \"End station\", \"Bike number\", \"Member Type\"]\n",
    "df = csv.read_csv(\n",
    "    \"./data/combined.csv\",\n",
    "    csv.ReadOptions(column_names=names),\n",
    ").to_pandas()\n",
    "\n",
    "# Reduce resolution of start and end date to reduce cardinality\n",
    "df[\"Start Date\"] = pd.to_datetime(df[\"Start Date\"])\n",
    "df[\"Start Day\"] = df[\"Start Date\"].dt.date\n",
    "df[\"End Date\"] = pd.to_datetime(df[\"End Date\"])\n",
    "df[\"End Day\"] = df[\"End Date\"].dt.date\n"
   ]
  },
  {
   "cell_type": "code",
   "execution_count": 4,
   "metadata": {},
   "outputs": [
    {
     "data": {
      "text/html": [
       "<div>\n",
       "<style scoped>\n",
       "    .dataframe tbody tr th:only-of-type {\n",
       "        vertical-align: middle;\n",
       "    }\n",
       "\n",
       "    .dataframe tbody tr th {\n",
       "        vertical-align: top;\n",
       "    }\n",
       "\n",
       "    .dataframe thead th {\n",
       "        text-align: right;\n",
       "    }\n",
       "</style>\n",
       "<table border=\"1\" class=\"dataframe\">\n",
       "  <thead>\n",
       "    <tr style=\"text-align: right;\">\n",
       "      <th></th>\n",
       "      <th>Duration</th>\n",
       "      <th>Start Date</th>\n",
       "      <th>End Date</th>\n",
       "      <th>Start station number</th>\n",
       "      <th>Start station</th>\n",
       "      <th>End station number</th>\n",
       "      <th>End station</th>\n",
       "      <th>Bike number</th>\n",
       "      <th>Member Type</th>\n",
       "      <th>Start Day</th>\n",
       "      <th>End Day</th>\n",
       "    </tr>\n",
       "  </thead>\n",
       "  <tbody>\n",
       "    <tr>\n",
       "      <th>0</th>\n",
       "      <td>2389</td>\n",
       "      <td>2015-01-01 00:02:44</td>\n",
       "      <td>2015-01-01 00:42:33</td>\n",
       "      <td>31271</td>\n",
       "      <td>Constitution Ave &amp; 2nd St NW/DOL</td>\n",
       "      <td>31254</td>\n",
       "      <td>15th &amp; K St NW</td>\n",
       "      <td>W01140</td>\n",
       "      <td>Casual</td>\n",
       "      <td>2015-01-01</td>\n",
       "      <td>2015-01-01</td>\n",
       "    </tr>\n",
       "    <tr>\n",
       "      <th>1</th>\n",
       "      <td>2394</td>\n",
       "      <td>2015-01-01 00:02:46</td>\n",
       "      <td>2015-01-01 00:42:41</td>\n",
       "      <td>31271</td>\n",
       "      <td>Constitution Ave &amp; 2nd St NW/DOL</td>\n",
       "      <td>31254</td>\n",
       "      <td>15th &amp; K St NW</td>\n",
       "      <td>W00612</td>\n",
       "      <td>Casual</td>\n",
       "      <td>2015-01-01</td>\n",
       "      <td>2015-01-01</td>\n",
       "    </tr>\n",
       "  </tbody>\n",
       "</table>\n",
       "</div>"
      ],
      "text/plain": [
       "   Duration          Start Date            End Date  Start station number  \\\n",
       "0      2389 2015-01-01 00:02:44 2015-01-01 00:42:33                 31271   \n",
       "1      2394 2015-01-01 00:02:46 2015-01-01 00:42:41                 31271   \n",
       "\n",
       "                      Start station  End station number     End station  \\\n",
       "0  Constitution Ave & 2nd St NW/DOL               31254  15th & K St NW   \n",
       "1  Constitution Ave & 2nd St NW/DOL               31254  15th & K St NW   \n",
       "\n",
       "  Bike number Member Type   Start Day     End Day  \n",
       "0      W01140      Casual  2015-01-01  2015-01-01  \n",
       "1      W00612      Casual  2015-01-01  2015-01-01  "
      ]
     },
     "execution_count": 4,
     "metadata": {},
     "output_type": "execute_result"
    }
   ],
   "source": [
    "df.head(2)"
   ]
  },
  {
   "cell_type": "markdown",
   "metadata": {},
   "source": [
    "## Write Table"
   ]
  },
  {
   "cell_type": "code",
   "execution_count": 5,
   "metadata": {},
   "outputs": [],
   "source": [
    "# Convert df to arrow table\n",
    "df_table = pyarrow.Table.from_pandas(df)"
   ]
  },
  {
   "cell_type": "markdown",
   "metadata": {},
   "source": [
    "### Unpartitioned"
   ]
  },
  {
   "cell_type": "code",
   "execution_count": 11,
   "metadata": {},
   "outputs": [],
   "source": [
    "pq.write_table(\n",
    "    df_table,\n",
    "    \"df.parquet\",\n",
    "    compression=\"snappy\",\n",
    ")"
   ]
  },
  {
   "cell_type": "markdown",
   "metadata": {},
   "source": [
    "### Partitioned"
   ]
  },
  {
   "cell_type": "code",
   "execution_count": 7,
   "metadata": {},
   "outputs": [],
   "source": [
    "pq.write_to_dataset(\n",
    "    df_table,\n",
    "    'df_partitioned',\n",
    "    partition_cols=[\"Start Day\", \"End Day\"],\n",
    "    use_legacy_dataset=False\n",
    ")"
   ]
  },
  {
   "cell_type": "markdown",
   "metadata": {},
   "source": [
    "## Read Table"
   ]
  },
  {
   "cell_type": "code",
   "execution_count": 37,
   "metadata": {},
   "outputs": [],
   "source": [
    "df = (\n",
    "    pq.ParquetDataset(\n",
    "        \"df.parquet\",\n",
    "        use_legacy_dataset=False,\n",
    "    )\n",
    "    .read_pandas()\n",
    "    .to_pandas()\n",
    ")"
   ]
  },
  {
   "cell_type": "code",
   "execution_count": 12,
   "metadata": {},
   "outputs": [],
   "source": [
    "# Read with filter\n",
    "df_filtered = (\n",
    "    pq.ParquetDataset(\n",
    "        \"df.parquet\",\n",
    "        filters=[(\"Start Day\", \"=\", datetime.date(2015, 1, 1))],\n",
    "        use_legacy_dataset=False,\n",
    "    )\n",
    "    .read_pandas()\n",
    "    .to_pandas()\n",
    ")"
   ]
  },
  {
   "cell_type": "markdown",
   "metadata": {},
   "source": [
    "### Partioned"
   ]
  },
  {
   "cell_type": "code",
   "execution_count": 47,
   "metadata": {},
   "outputs": [],
   "source": [
    "df = (\n",
    "    pq.ParquetDataset(\n",
    "        \"df_partitioned\",\n",
    "        use_legacy_dataset=False,\n",
    "    )\n",
    "    .read_pandas()\n",
    "    .to_pandas()\n",
    ")"
   ]
  },
  {
   "cell_type": "code",
   "execution_count": 8,
   "metadata": {},
   "outputs": [],
   "source": [
    "# Read with filter\n",
    "df_filtered = (\n",
    "    pq.ParquetDataset(\n",
    "        \"df_partitioned\",\n",
    "        filters=[(\"Start Day\", \"=\", \"2015-01-01\")],\n",
    "        use_legacy_dataset=False,\n",
    "    )\n",
    "    .read_pandas()\n",
    "    .to_pandas()\n",
    ")"
   ]
  },
  {
   "cell_type": "code",
   "execution_count": null,
   "metadata": {},
   "outputs": [],
   "source": []
  }
 ],
 "metadata": {
  "interpreter": {
   "hash": "ee482b83a587b8474f0b0034261983d62272cb9a7a6cfb93e5208c3d9958b882"
  },
  "kernelspec": {
   "display_name": "Python 3.9.7 64-bit ('apache-parquet': conda)",
   "language": "python",
   "name": "python3"
  },
  "language_info": {
   "codemirror_mode": {
    "name": "ipython",
    "version": 3
   },
   "file_extension": ".py",
   "mimetype": "text/x-python",
   "name": "python",
   "nbconvert_exporter": "python",
   "pygments_lexer": "ipython3",
   "version": "3.9.7"
  },
  "orig_nbformat": 4
 },
 "nbformat": 4,
 "nbformat_minor": 2
}
